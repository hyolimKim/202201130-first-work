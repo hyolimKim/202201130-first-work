{
 "cells": [
  {
   "cell_type": "code",
   "execution_count": 16,
   "id": "5263deab",
   "metadata": {},
   "outputs": [
    {
     "ename": "SyntaxError",
     "evalue": "'return' outside function (1297485450.py, line 44)",
     "output_type": "error",
     "traceback": [
      "\u001b[1;36m  Cell \u001b[1;32mIn[16], line 44\u001b[1;36m\u001b[0m\n\u001b[1;33m    return none\u001b[0m\n\u001b[1;37m    ^\u001b[0m\n\u001b[1;31mSyntaxError\u001b[0m\u001b[1;31m:\u001b[0m 'return' outside function\n"
     ]
    }
   ],
   "source": [
    "class Node:\n",
    "    def __init__(self, data):\n",
    "        self.data = data\n",
    "        self.next = None\n",
    "class LinkedList:\n",
    "    def __init__(self):\n",
    "        dummy = Node(\"dummy\")\n",
    "        self.head = dummy\n",
    "        self.tail = dummy\n",
    "\n",
    "        self.current = None\n",
    "        self.before = None\n",
    "\n",
    "        self.num_of_data = 0\n",
    "    def append(self, data):\n",
    "        new_node = Node(data)\n",
    "        self.tail.next = new_node\n",
    "        self.tail = new_node\n",
    "        self.num_of_data +=1 \n",
    "    def remove(self):\n",
    "        pop_data = self.current.data\n",
    "\n",
    "        if self.current is self.tail:\n",
    "            self.tail = self.before\n",
    "            self.before.next = self.current.next\n",
    "            self.current = self.before \n",
    "            self.num_of_data -= 1\n",
    "            return pop_data\n",
    "        def first(self):\n",
    "            if self.num_of_data == 0: \n",
    "                return None\n",
    "\n",
    "        self.before = self.head\n",
    "        self.current = self.head.next\n",
    "\n",
    "        return self.current.data\n",
    "    def search(self,data):\n",
    "        \n",
    "        while data.next !=self.head:\n",
    "            if data.data==data:\n",
    "                return data\n",
    "            else:\n",
    "                data=data.next\n",
    "    return none"
   ]
  },
  {
   "cell_type": "code",
   "execution_count": null,
   "id": "f194a37f",
   "metadata": {},
   "outputs": [],
   "source": [
    "\n",
    " "
   ]
  },
  {
   "cell_type": "code",
   "execution_count": 3,
   "id": "389040f3",
   "metadata": {},
   "outputs": [],
   "source": [
    "    "
   ]
  },
  {
   "cell_type": "code",
   "execution_count": 4,
   "id": "4c5b1f12",
   "metadata": {},
   "outputs": [],
   "source": [
    "     "
   ]
  },
  {
   "cell_type": "code",
   "execution_count": 18,
   "id": "24a95058",
   "metadata": {},
   "outputs": [
    {
     "ename": "NameError",
     "evalue": "name 'data' is not defined",
     "output_type": "error",
     "traceback": [
      "\u001b[1;31m---------------------------------------------------------------------------\u001b[0m",
      "\u001b[1;31mNameError\u001b[0m                                 Traceback (most recent call last)",
      "Cell \u001b[1;32mIn[18], line 1\u001b[0m\n\u001b[1;32m----> 1\u001b[0m \u001b[38;5;28;01mif\u001b[39;00m \u001b[43mdata\u001b[49m:\n\u001b[0;32m      2\u001b[0m  \u001b[38;5;28mprint\u001b[39m(data, end\u001b[38;5;241m=\u001b[39m\u001b[38;5;124m'\u001b[39m\u001b[38;5;124m \u001b[39m\u001b[38;5;124m'\u001b[39m)\n\u001b[0;32m      3\u001b[0m  \u001b[38;5;28;01mwhile\u001b[39;00m \u001b[38;5;28;01mTrue\u001b[39;00m:\n",
      "\u001b[1;31mNameError\u001b[0m: name 'data' is not defined"
     ]
    }
   ],
   "source": [
    "   "
   ]
  },
  {
   "cell_type": "code",
   "execution_count": 15,
   "id": "5fdad01d",
   "metadata": {},
   "outputs": [
    {
     "ename": "SyntaxError",
     "evalue": "invalid syntax (1845312033.py, line 1)",
     "output_type": "error",
     "traceback": [
      "\u001b[1;36m  Cell \u001b[1;32mIn[15], line 1\u001b[1;36m\u001b[0m\n\u001b[1;33m    def data = l_list.first():\u001b[0m\n\u001b[1;37m             ^\u001b[0m\n\u001b[1;31mSyntaxError\u001b[0m\u001b[1;31m:\u001b[0m invalid syntax\n"
     ]
    }
   ],
   "source": [
    "      "
   ]
  },
  {
   "cell_type": "code",
   "execution_count": 16,
   "id": "20cfebe9",
   "metadata": {},
   "outputs": [
    {
     "ename": "SyntaxError",
     "evalue": "'break' outside loop (2742057332.py, line 8)",
     "output_type": "error",
     "traceback": [
      "\u001b[1;36m  Cell \u001b[1;32mIn[16], line 8\u001b[1;36m\u001b[0m\n\u001b[1;33m    break\u001b[0m\n\u001b[1;37m    ^\u001b[0m\n\u001b[1;31mSyntaxError\u001b[0m\u001b[1;31m:\u001b[0m 'break' outside loop\n"
     ]
    }
   ],
   "source": [
    "   "
   ]
  },
  {
   "cell_type": "code",
   "execution_count": 12,
   "id": "5315ea49",
   "metadata": {},
   "outputs": [
    {
     "ename": "NameError",
     "evalue": "name 'data' is not defined",
     "output_type": "error",
     "traceback": [
      "\u001b[1;31m---------------------------------------------------------------------------\u001b[0m",
      "\u001b[1;31mNameError\u001b[0m                                 Traceback (most recent call last)",
      "Cell \u001b[1;32mIn[12], line 1\u001b[0m\n\u001b[1;32m----> 1\u001b[0m \u001b[38;5;28mprint\u001b[39m(\u001b[43mdata\u001b[49m)\n",
      "\u001b[1;31mNameError\u001b[0m: name 'data' is not defined"
     ]
    }
   ],
   "source": []
  },
  {
   "cell_type": "code",
   "execution_count": null,
   "id": "095815b7",
   "metadata": {},
   "outputs": [],
   "source": []
  }
 ],
 "metadata": {
  "kernelspec": {
   "display_name": "Python 3 (ipykernel)",
   "language": "python",
   "name": "python3"
  },
  "language_info": {
   "codemirror_mode": {
    "name": "ipython",
    "version": 3
   },
   "file_extension": ".py",
   "mimetype": "text/x-python",
   "name": "python",
   "nbconvert_exporter": "python",
   "pygments_lexer": "ipython3",
   "version": "3.10.9"
  }
 },
 "nbformat": 4,
 "nbformat_minor": 5
}
